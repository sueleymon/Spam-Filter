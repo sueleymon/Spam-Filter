{
 "cells": [
  {
   "cell_type": "code",
   "execution_count": 1,
   "id": "f4b41d3d",
   "metadata": {},
   "outputs": [],
   "source": [
    "import os\n",
    "\n",
    "def get_email_content(path):\n",
    "    with open(path, mode = \"r\", encoding = \"iso-8859-1\") as file:\n",
    "        email = file.read()\n",
    "        email_parts = email.split(\"\\n\\n\", 1)\n",
    "        if len(email_parts) != 2:\n",
    "            return None\n",
    "        else:\n",
    "            content = email_parts[1]\n",
    "            return content\n",
    "        \n",
    "    \n",
    "def read_emails(folder):\n",
    "    contents = []\n",
    "    for f in os.listdir(folder):\n",
    "        complete_path = folder + \"/\" + f\n",
    "        # print(complete_path)\n",
    "        if os.path.isdir(complete_path):\n",
    "            continue\n",
    "        email_content = get_email_content(complete_path)\n",
    "        if email_content != None:\n",
    "            contents.append(email_content)\n",
    "    return contents\n",
    "    \n",
    "spam_contents = read_emails(\"../data/Spam-Emails/spam\")\n",
    "ham_contents = read_emails(\"../data/Spam-Emails/easy_ham\")"
   ]
  },
  {
   "cell_type": "code",
   "execution_count": 2,
   "id": "21ff23da",
   "metadata": {},
   "outputs": [
    {
     "name": "stdout",
     "output_type": "stream",
     "text": [
      "500\n",
      "2500\n"
     ]
    }
   ],
   "source": [
    "print(len(spam_contents))\n",
    "print(len(ham_contents))"
   ]
  },
  {
   "cell_type": "code",
   "execution_count": 3,
   "id": "edb6cf8b",
   "metadata": {},
   "outputs": [
    {
     "name": "stdout",
     "output_type": "stream",
     "text": [
      "0.554\n",
      "0.0672\n"
     ]
    }
   ],
   "source": [
    "# words: million, service, please, offer, dollar\n",
    "\n",
    "def email_is_spam(content):\n",
    "    if content.lower().count(\"million\") != 0:\n",
    "        return True\n",
    "    elif content.lower().count(\"please\") >= 2:\n",
    "        return True\n",
    "    elif content.lower().count(\"offer\") != 0:\n",
    "        return True\n",
    "    else:\n",
    "        return False\n",
    "\n",
    "# Spam-Emails, 1 wenn wir korrekterweise die E-Mail als Spam erkannt haben\n",
    "spam_detected = [int(email_is_spam(c)) for c in spam_contents]\n",
    "\n",
    "# Nicht-Spam-Emails. 1 bedeutet, wir denken, dass es sich trotzdem um Spam handelt\n",
    "ham_spam_detected = [int(email_is_spam(c)) for c in ham_contents]\n",
    "\n",
    "print(sum(spam_detected) / len(spam_detected))\n",
    "print(sum(ham_spam_detected) / len(ham_spam_detected))"
   ]
  },
  {
   "cell_type": "code",
   "execution_count": null,
   "id": "e64fe38a",
   "metadata": {},
   "outputs": [],
   "source": []
  }
 ],
 "metadata": {
  "kernelspec": {
   "display_name": "Python 3 (ipykernel)",
   "language": "python",
   "name": "python3"
  },
  "language_info": {
   "codemirror_mode": {
    "name": "ipython",
    "version": 3
   },
   "file_extension": ".py",
   "mimetype": "text/x-python",
   "name": "python",
   "nbconvert_exporter": "python",
   "pygments_lexer": "ipython3",
   "version": "3.11.7"
  }
 },
 "nbformat": 4,
 "nbformat_minor": 5
}
